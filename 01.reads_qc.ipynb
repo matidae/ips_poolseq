{
 "cells": [
  {
   "cell_type": "code",
   "execution_count": null,
   "id": "008a294b",
   "metadata": {
    "vscode": {
     "languageId": "shellscript"
    }
   },
   "outputs": [],
   "source": [
    "%%bash\n",
    "#Create a file with the list of all the prefixes that will be used\n",
    "for i in $(ls ips_poolseq/X204SC25022243*/01.RawData/*/*.fq.gz); do \n",
    "    prefix=$(echo $i | cut -f4 -d'/')  \n",
    "    echo $prefix\n",
    "done | sort | uniq > ips_reads/prefixes\n",
    "\n",
    "#Create a directory for each dataset\n",
    "while read -r prefix; do \n",
    "    mkdir ./ips_reads/$prefix\n",
    "done < ips_reads/prefixes\n",
    "\n",
    "#Create a list of all original files in the dataset\n",
    "for i in $(ls ips_poolseq/X204SC25022243*/01.RawData/*/*.fq.gz); do \n",
    "    echo $i\n",
    "done > ips_reads/filelist"
   ]
  },
  {
   "cell_type": "code",
   "execution_count": null,
   "id": "7805a274",
   "metadata": {
    "vscode": {
     "languageId": "shellscript"
    }
   },
   "outputs": [],
   "source": [
    "%%bash\n",
    "#Bulk QC processing of datasets with fastp. Takes \n",
    "while read -r prefix; do\n",
    "    files=($(grep $prefix ./ips_reads/filelist))\n",
    "    numfiles=$(grep -c $prefix ./ips_reads/filelist)    \n",
    "    \n",
    "    html=$(echo ${files[0]} | cut -f5 -d'/' | sed 's/_..fq.gz/.qc_report.html/')\n",
    "    json=$(echo ${files[0]} | cut -f5 -d'/' | sed 's/_..fq.gz/.qc_report.json/')\n",
    "    out1=$(echo ${files[0]} | cut -f5 -d'/' | sed 's/.fq/.qc.fq/')\n",
    "    out2=$(echo ${files[1]} | cut -f5 -d'/' | sed 's/.fq/.qc.fq/')\n",
    "    \n",
    "    fastp -i ${files[0]} \\\n",
    "        -I ${files[1]} \\\n",
    "        -o ./ips_reads/$prefix/$out1 \\\n",
    "        -O ./ips_reads/$prefix/$out2 \\\n",
    "        -w 16 \\\n",
    "        --detect_adapter_for_pe \\\n",
    "        --trim_poly_g \\\n",
    "        --length_required 50 \\\n",
    "        --qualified_quality_phred 20 \\\n",
    "        -j ./ips_reads/$prefix/$json \\\n",
    "        -h ./ips_reads/$prefix/$html\n",
    "    \n",
    "    if [ \"$numfiles\" -eq 4 ]; then\n",
    "        html2=$(echo ${files[2]} | cut -f5 -d'/' | sed 's/_..fq.gz/.qc_report.html/')\n",
    "        json2=$(echo ${files[0]} | cut -f5 -d'/' | sed 's/_..fq.gz/.qc_report.json/')\n",
    "        out3=$(echo ${files[2]} | cut -f5 -d'/' | sed 's/.fq/.qc.fq/')\n",
    "        out4=$(echo ${files[3]} | cut -f5 -d'/' | sed 's/.fq/.qc.fq/')\n",
    "        fastp -i ${files[2]} \\\n",
    "            -I ${files[3]} \\\n",
    "            -o ./ips_reads/$prefix/$out3 \\\n",
    "            -O ./ips_reads/$prefix/$out4 \\\n",
    "            -w 16 \\\n",
    "            --detect_adapter_for_pe \\\n",
    "            --trim_poly_g \\\n",
    "            --length_required 50 \\\n",
    "            --qualified_quality_phred 20 \\\n",
    "            -j ./ips_reads/$prefix/$json2 \\\n",
    "            -h ./ips_reads/$prefix/$html2\n",
    "    fi \n",
    "done < ips_reads/prefixes\n",
    "\n"
   ]
  },
  {
   "cell_type": "code",
   "execution_count": 3,
   "id": "fe597ee5",
   "metadata": {},
   "outputs": [
    {
     "name": "stdout",
     "output_type": "stream",
     "text": [
      "aattgc\n"
     ]
    }
   ],
   "source": [
    "import matplotlib as plt\n",
    "print(\"aattgc\")"
   ]
  },
  {
   "cell_type": "code",
   "execution_count": null,
   "id": "a62482e8",
   "metadata": {
    "vscode": {
     "languageId": "r"
    }
   },
   "outputs": [],
   "source": [
    "# Simple R test: create data and plot\n",
    "x <- 1:10\n",
    "y <- x^2\n",
    "\n",
    "# Plot the data\n",
    "plot(x, y, type = \"b\", col = \"blue\", pch = 19,\n",
    "     main = \"Test Plot\",\n",
    "     xlab = \"X values\", ylab = \"Y = X squared\")\n"
   ]
  }
 ],
 "metadata": {
  "kernelspec": {
   "display_name": ".venv",
   "language": "python",
   "name": "python3"
  },
  "language_info": {
   "codemirror_mode": {
    "name": "ipython",
    "version": 3
   },
   "file_extension": ".py",
   "mimetype": "text/x-python",
   "name": "python",
   "nbconvert_exporter": "python",
   "pygments_lexer": "ipython3",
   "version": "3.12.4"
  }
 },
 "nbformat": 4,
 "nbformat_minor": 5
}
